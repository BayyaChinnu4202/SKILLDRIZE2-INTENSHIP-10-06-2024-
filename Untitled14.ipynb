{
  "nbformat": 4,
  "nbformat_minor": 0,
  "metadata": {
    "colab": {
      "provenance": [],
      "authorship_tag": "ABX9TyOkfoJNltGGjaP43pUT6bm3",
      "include_colab_link": true
    },
    "kernelspec": {
      "name": "python3",
      "display_name": "Python 3"
    },
    "language_info": {
      "name": "python"
    }
  },
  "cells": [
    {
      "cell_type": "markdown",
      "metadata": {
        "id": "view-in-github",
        "colab_type": "text"
      },
      "source": [
        "<a href=\"https://colab.research.google.com/github/BayyaChinnu4202/SKILLDRIZE2-INTENSHIP-10-06-2024-/blob/main/Untitled14.ipynb\" target=\"_parent\"><img src=\"https://colab.research.google.com/assets/colab-badge.svg\" alt=\"Open In Colab\"/></a>"
      ]
    },
    {
      "cell_type": "markdown",
      "source": [
        "# CHECKING USER INPUT ENTERED BY THE USER\n"
      ],
      "metadata": {
        "id": "Of21chpGKlrC"
      }
    },
    {
      "cell_type": "code",
      "source": [
        "# CHECKING USER INPUT ENTERED BY THE USER\n",
        "def check(c):\n",
        "  if(c==1):\n",
        "    print('you entered 1')\n",
        "  elif(c==2):\n",
        "    print('you entered 2')\n",
        "  elif(c==3):\n",
        "      print('you entered 3')\n",
        "  elif(c==4):\n",
        "      print('you entered 4')\n",
        "  else:\n",
        "      print('you entered wrong number')\n",
        "#main\n",
        "c=int(input('enter any number'))\n",
        "check(c)\n"
      ],
      "metadata": {
        "colab": {
          "base_uri": "https://localhost:8080/"
        },
        "id": "yifFyqVrKq9a",
        "outputId": "1fdc14d9-711c-4430-c0f6-61b6601a5aec"
      },
      "execution_count": 4,
      "outputs": [
        {
          "output_type": "stream",
          "name": "stdout",
          "text": [
            "enter any number2\n",
            "you entered 2\n"
          ]
        }
      ]
    },
    {
      "cell_type": "markdown",
      "source": [
        "PERFORMING OPERATIONS USING USER INPUT\n",
        "def add(a,b):\n",
        " print(a+b)\n",
        "def sub(a,b):\n",
        " print(a-b)\n",
        "def mul(a,b):\n",
        " print(a*b)\n",
        "def div(a,b):\n",
        " print(a/b)"
      ],
      "metadata": {
        "id": "qSUfS_5uOJqP"
      }
    },
    {
      "cell_type": "code",
      "source": [
        "\n",
        "def add(a,b):\n",
        " print(a+b)\n",
        "def sub(a,b):\n",
        " print(a-b)\n",
        "def mul(a,b):\n",
        " print(a*b)\n",
        "def div(a,b):\n",
        " print(a/b)\n",
        "#main\n",
        "num1=int(input('enter first number'))\n",
        "num2=int(input('enter second number'))\n",
        "print('1.add')\n",
        "print('2.subtract')\n",
        "print('3.multiply')\n",
        "print('4.divide')\n",
        "c=int(input('enter any number to perform some operations'))\n",
        "if(c==1):\n",
        "  add(num1,num2)\n",
        "elif(c==2):\n",
        "  sub(num1,num2)\n",
        "elif(c==3):\n",
        "  mul(num1,num2)\n",
        "elif(c==4):\n",
        "  div(num1,num2)\n",
        "else:\n",
        "  print('you entered a wrong number')"
      ],
      "metadata": {
        "colab": {
          "base_uri": "https://localhost:8080/"
        },
        "id": "k51iCJzDOT8-",
        "outputId": "5f30fe5f-c6ce-4849-a946-07ff9c33bb93"
      },
      "execution_count": 13,
      "outputs": [
        {
          "output_type": "stream",
          "name": "stdout",
          "text": [
            "enter first number100\n",
            "enter second number200\n",
            "1.add\n",
            "2.subtract\n",
            "3.multiply\n",
            "4.divide\n",
            "enter any number to perform some operations1\n",
            "300\n"
          ]
        }
      ]
    },
    {
      "cell_type": "markdown",
      "source": [
        "LIST DATATYPE\n"
      ],
      "metadata": {
        "id": "gQkBRJVKSBbV"
      }
    },
    {
      "cell_type": "code",
      "source": [
        "L=[]"
      ],
      "metadata": {
        "id": "2-Rb-Wj1SFeu"
      },
      "execution_count": 14,
      "outputs": []
    },
    {
      "cell_type": "code",
      "source": [
        "print(type(L))"
      ],
      "metadata": {
        "colab": {
          "base_uri": "https://localhost:8080/"
        },
        "id": "LjhVLM-jSKed",
        "outputId": "18990638-ef14-47a8-9dc5-e49b67277ac4"
      },
      "execution_count": 15,
      "outputs": [
        {
          "output_type": "stream",
          "name": "stdout",
          "text": [
            "<class 'list'>\n"
          ]
        }
      ]
    },
    {
      "cell_type": "code",
      "source": [
        "L.append(10)\n",
        "L.append(20)\n",
        "L.append(30)"
      ],
      "metadata": {
        "id": "ToyY0aZJSQZu"
      },
      "execution_count": 16,
      "outputs": []
    },
    {
      "cell_type": "code",
      "source": [
        "print(L)"
      ],
      "metadata": {
        "colab": {
          "base_uri": "https://localhost:8080/"
        },
        "id": "MAG8W3diSZM1",
        "outputId": "be383a8f-5d79-401a-b952-fc9f68cdbb8f"
      },
      "execution_count": 17,
      "outputs": [
        {
          "output_type": "stream",
          "name": "stdout",
          "text": [
            "[10, 20, 30]\n"
          ]
        }
      ]
    },
    {
      "cell_type": "code",
      "source": [
        "L.insert(1,15)"
      ],
      "metadata": {
        "id": "53QFpw4KScJl"
      },
      "execution_count": 18,
      "outputs": []
    },
    {
      "cell_type": "code",
      "source": [
        "print(L)"
      ],
      "metadata": {
        "colab": {
          "base_uri": "https://localhost:8080/"
        },
        "id": "3JrFpEVUSpOu",
        "outputId": "11689662-1d36-412d-fbcf-8fe0f43dca78"
      },
      "execution_count": 19,
      "outputs": [
        {
          "output_type": "stream",
          "name": "stdout",
          "text": [
            "[10, 15, 20, 30]\n"
          ]
        }
      ]
    },
    {
      "cell_type": "code",
      "source": [
        "#update\n",
        "L[1]=100"
      ],
      "metadata": {
        "id": "4Xn2B9hpSrs-"
      },
      "execution_count": 23,
      "outputs": []
    },
    {
      "cell_type": "code",
      "source": [
        "print(L)"
      ],
      "metadata": {
        "colab": {
          "base_uri": "https://localhost:8080/"
        },
        "id": "7efYKkmIT0um",
        "outputId": "945750c8-c280-43d9-e28b-564bdde56252"
      },
      "execution_count": 24,
      "outputs": [
        {
          "output_type": "stream",
          "name": "stdout",
          "text": [
            "[10, 100, 20, 30]\n"
          ]
        }
      ]
    },
    {
      "cell_type": "code",
      "source": [
        "#delete\n",
        "del L[0]"
      ],
      "metadata": {
        "id": "O2Hz0hepUE8G"
      },
      "execution_count": 25,
      "outputs": []
    },
    {
      "cell_type": "code",
      "source": [
        "print(L)"
      ],
      "metadata": {
        "colab": {
          "base_uri": "https://localhost:8080/"
        },
        "id": "ZxB6wR4JUL32",
        "outputId": "ca20b0c0-0ae7-490b-fec3-31ad8c600d78"
      },
      "execution_count": 26,
      "outputs": [
        {
          "output_type": "stream",
          "name": "stdout",
          "text": [
            "[100, 20, 30]\n"
          ]
        }
      ]
    },
    {
      "cell_type": "code",
      "source": [
        "print('total elements in list are',len(L))"
      ],
      "metadata": {
        "colab": {
          "base_uri": "https://localhost:8080/"
        },
        "id": "SRtJ_5EkUP2G",
        "outputId": "16fa8305-fc6f-46b1-8b47-229b23aba22b"
      },
      "execution_count": 27,
      "outputs": [
        {
          "output_type": "stream",
          "name": "stdout",
          "text": [
            "total elements in list are 3\n"
          ]
        }
      ]
    },
    {
      "cell_type": "code",
      "source": [
        "L.sort()"
      ],
      "metadata": {
        "id": "suZGEbIQUYtm"
      },
      "execution_count": 28,
      "outputs": []
    },
    {
      "cell_type": "code",
      "source": [
        "L"
      ],
      "metadata": {
        "colab": {
          "base_uri": "https://localhost:8080/"
        },
        "id": "TICBHpAgUcP2",
        "outputId": "905f5b0f-0dc9-4e34-e6e0-8bc3c9f63d39"
      },
      "execution_count": 29,
      "outputs": [
        {
          "output_type": "execute_result",
          "data": {
            "text/plain": [
              "[20, 30, 100]"
            ]
          },
          "metadata": {},
          "execution_count": 29
        }
      ]
    },
    {
      "cell_type": "code",
      "source": [
        "L.sort(reverse=True)"
      ],
      "metadata": {
        "id": "bDTZRxWQUiHe"
      },
      "execution_count": 30,
      "outputs": []
    },
    {
      "cell_type": "code",
      "source": [
        "L"
      ],
      "metadata": {
        "colab": {
          "base_uri": "https://localhost:8080/"
        },
        "id": "67TjTNlfUviu",
        "outputId": "3931bdd6-e65a-4e46-99db-0651550b2681"
      },
      "execution_count": 31,
      "outputs": [
        {
          "output_type": "execute_result",
          "data": {
            "text/plain": [
              "[100, 30, 20]"
            ]
          },
          "metadata": {},
          "execution_count": 31
        }
      ]
    },
    {
      "cell_type": "code",
      "source": [],
      "metadata": {
        "id": "Ra9-4EgFUyJ-"
      },
      "execution_count": null,
      "outputs": []
    }
  ]
}